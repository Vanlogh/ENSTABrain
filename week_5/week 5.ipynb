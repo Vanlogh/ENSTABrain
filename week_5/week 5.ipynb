{
 "cells": [
  {
   "cell_type": "markdown",
   "metadata": {},
   "source": [
    "# <font color='blue'>Week 5:</font>"
   ]
  },
  {
   "cell_type": "markdown",
   "metadata": {},
   "source": [
    "# Presented by:\n",
    "\n",
    "![EB](images/LogoEB.png)"
   ]
  },
  {
   "cell_type": "markdown",
   "metadata": {},
   "source": [
    "# Agenda\n",
    "\n",
    "- Neural Networks\n",
    "- Problem at hand\n",
    "- Mathematic Background\n",
    "- Neural Network from Scratch\n",
    "- What next ?"
   ]
  },
  {
   "cell_type": "markdown",
   "metadata": {},
   "source": [
    "# Neural Networks\n",
    "\n",
    "They are probably the most famous machine learning model to ever exist\n",
    "\n",
    "** here are some of its uses**"
   ]
  },
  {
   "cell_type": "markdown",
   "metadata": {},
   "source": [
    "## Neural Networks in health care\n",
    "\n",
    "![Health_care](images/havel.jpg)"
   ]
  },
  {
   "cell_type": "markdown",
   "metadata": {},
   "source": [
    "## Neural Networks in Manufacturing\n",
    "\n",
    "![manufacturing](images/manufacturing.jpg)"
   ]
  },
  {
   "cell_type": "markdown",
   "metadata": {},
   "source": [
    "## Neural Networks in image classification and object recognition\n",
    "\n",
    "![image](images/image.jpg)"
   ]
  },
  {
   "cell_type": "markdown",
   "metadata": {},
   "source": [
    "# Problem at hand\n",
    "\n",
    "** In this session, we are going to create an Artificial neural network from scratch to look at images and predict if the images contain cats or not **\n",
    "\n",
    "![cat](images/cat7.png)"
   ]
  },
  {
   "cell_type": "markdown",
   "metadata": {},
   "source": [
    "### Let's start by importing some libraries and import our data"
   ]
  },
  {
   "cell_type": "code",
   "execution_count": 1,
   "metadata": {
    "scrolled": true
   },
   "outputs": [
    {
     "data": {
      "text/html": [
       "<div>\n",
       "<style>\n",
       "    .dataframe thead tr:only-child th {\n",
       "        text-align: right;\n",
       "    }\n",
       "\n",
       "    .dataframe thead th {\n",
       "        text-align: left;\n",
       "    }\n",
       "\n",
       "    .dataframe tbody tr th {\n",
       "        vertical-align: top;\n",
       "    }\n",
       "</style>\n",
       "<table border=\"1\" class=\"dataframe\">\n",
       "  <thead>\n",
       "    <tr style=\"text-align: right;\">\n",
       "      <th></th>\n",
       "      <th>r_1</th>\n",
       "      <th>r_2</th>\n",
       "      <th>r_3</th>\n",
       "      <th>r_4</th>\n",
       "      <th>r_5</th>\n",
       "      <th>r_6</th>\n",
       "      <th>r_7</th>\n",
       "      <th>r_8</th>\n",
       "      <th>r_9</th>\n",
       "      <th>r_10</th>\n",
       "      <th>...</th>\n",
       "      <th>b_1016</th>\n",
       "      <th>b_1017</th>\n",
       "      <th>b_1018</th>\n",
       "      <th>b_1019</th>\n",
       "      <th>b_1020</th>\n",
       "      <th>b_1021</th>\n",
       "      <th>b_1022</th>\n",
       "      <th>b_1023</th>\n",
       "      <th>b_1024</th>\n",
       "      <th>target</th>\n",
       "    </tr>\n",
       "  </thead>\n",
       "  <tbody>\n",
       "    <tr>\n",
       "      <th>0</th>\n",
       "      <td>135</td>\n",
       "      <td>136</td>\n",
       "      <td>155</td>\n",
       "      <td>151</td>\n",
       "      <td>146</td>\n",
       "      <td>145</td>\n",
       "      <td>147</td>\n",
       "      <td>98</td>\n",
       "      <td>23</td>\n",
       "      <td>24</td>\n",
       "      <td>...</td>\n",
       "      <td>154</td>\n",
       "      <td>151</td>\n",
       "      <td>145</td>\n",
       "      <td>140</td>\n",
       "      <td>136</td>\n",
       "      <td>123</td>\n",
       "      <td>53</td>\n",
       "      <td>46</td>\n",
       "      <td>48</td>\n",
       "      <td>cat</td>\n",
       "    </tr>\n",
       "    <tr>\n",
       "      <th>1</th>\n",
       "      <td>19</td>\n",
       "      <td>21</td>\n",
       "      <td>86</td>\n",
       "      <td>173</td>\n",
       "      <td>208</td>\n",
       "      <td>224</td>\n",
       "      <td>227</td>\n",
       "      <td>227</td>\n",
       "      <td>237</td>\n",
       "      <td>237</td>\n",
       "      <td>...</td>\n",
       "      <td>25</td>\n",
       "      <td>31</td>\n",
       "      <td>33</td>\n",
       "      <td>27</td>\n",
       "      <td>23</td>\n",
       "      <td>25</td>\n",
       "      <td>28</td>\n",
       "      <td>35</td>\n",
       "      <td>37</td>\n",
       "      <td>no_cat</td>\n",
       "    </tr>\n",
       "    <tr>\n",
       "      <th>2</th>\n",
       "      <td>98</td>\n",
       "      <td>97</td>\n",
       "      <td>97</td>\n",
       "      <td>99</td>\n",
       "      <td>96</td>\n",
       "      <td>95</td>\n",
       "      <td>96</td>\n",
       "      <td>100</td>\n",
       "      <td>102</td>\n",
       "      <td>103</td>\n",
       "      <td>...</td>\n",
       "      <td>23</td>\n",
       "      <td>31</td>\n",
       "      <td>30</td>\n",
       "      <td>29</td>\n",
       "      <td>30</td>\n",
       "      <td>31</td>\n",
       "      <td>38</td>\n",
       "      <td>47</td>\n",
       "      <td>48</td>\n",
       "      <td>no_cat</td>\n",
       "    </tr>\n",
       "    <tr>\n",
       "      <th>3</th>\n",
       "      <td>231</td>\n",
       "      <td>221</td>\n",
       "      <td>211</td>\n",
       "      <td>208</td>\n",
       "      <td>210</td>\n",
       "      <td>209</td>\n",
       "      <td>208</td>\n",
       "      <td>207</td>\n",
       "      <td>207</td>\n",
       "      <td>207</td>\n",
       "      <td>...</td>\n",
       "      <td>188</td>\n",
       "      <td>188</td>\n",
       "      <td>188</td>\n",
       "      <td>188</td>\n",
       "      <td>188</td>\n",
       "      <td>188</td>\n",
       "      <td>187</td>\n",
       "      <td>187</td>\n",
       "      <td>187</td>\n",
       "      <td>no_cat</td>\n",
       "    </tr>\n",
       "    <tr>\n",
       "      <th>4</th>\n",
       "      <td>138</td>\n",
       "      <td>139</td>\n",
       "      <td>143</td>\n",
       "      <td>145</td>\n",
       "      <td>142</td>\n",
       "      <td>142</td>\n",
       "      <td>146</td>\n",
       "      <td>144</td>\n",
       "      <td>136</td>\n",
       "      <td>140</td>\n",
       "      <td>...</td>\n",
       "      <td>100</td>\n",
       "      <td>97</td>\n",
       "      <td>97</td>\n",
       "      <td>101</td>\n",
       "      <td>107</td>\n",
       "      <td>116</td>\n",
       "      <td>118</td>\n",
       "      <td>119</td>\n",
       "      <td>104</td>\n",
       "      <td>no_cat</td>\n",
       "    </tr>\n",
       "  </tbody>\n",
       "</table>\n",
       "<p>5 rows × 3073 columns</p>\n",
       "</div>"
      ],
      "text/plain": [
       "   r_1  r_2  r_3  r_4  r_5  r_6  r_7  r_8  r_9  r_10   ...    b_1016  b_1017  \\\n",
       "0  135  136  155  151  146  145  147   98   23    24   ...       154     151   \n",
       "1   19   21   86  173  208  224  227  227  237   237   ...        25      31   \n",
       "2   98   97   97   99   96   95   96  100  102   103   ...        23      31   \n",
       "3  231  221  211  208  210  209  208  207  207   207   ...       188     188   \n",
       "4  138  139  143  145  142  142  146  144  136   140   ...       100      97   \n",
       "\n",
       "   b_1018  b_1019  b_1020  b_1021  b_1022  b_1023  b_1024  target  \n",
       "0     145     140     136     123      53      46      48     cat  \n",
       "1      33      27      23      25      28      35      37  no_cat  \n",
       "2      30      29      30      31      38      47      48  no_cat  \n",
       "3     188     188     188     188     187     187     187  no_cat  \n",
       "4      97     101     107     116     118     119     104  no_cat  \n",
       "\n",
       "[5 rows x 3073 columns]"
      ]
     },
     "execution_count": 1,
     "metadata": {},
     "output_type": "execute_result"
    }
   ],
   "source": [
    "import pandas as pd\n",
    "import numpy as np\n",
    "import seaborn as sns\n",
    "import matplotlib.pyplot as plt\n",
    "%matplotlib inline\n",
    "sns.set()\n",
    "\n",
    "data = pd.read_csv('data/data.csv')\n",
    "data.head()"
   ]
  },
  {
   "cell_type": "code",
   "execution_count": 2,
   "metadata": {},
   "outputs": [
    {
     "data": {
      "image/png": "[encoded data removed]",
      "text/plain": [
       "<matplotlib.figure.Figure at 0x258b4ef5a20>"
      ]
     },
     "metadata": {},
     "output_type": "display_data"
    }
   ],
   "source": [
    "plt.figure(figsize=(14, 10))\n",
    "data['target'].value_counts().plot.bar()\n",
    "plt.show()"
   ]
  },
  {
   "cell_type": "code",
   "execution_count": 3,
   "metadata": {},
   "outputs": [
    {
     "data": {
      "text/html": [
       "<div>\n",
       "<style>\n",
       "    .dataframe thead tr:only-child th {\n",
       "        text-align: right;\n",
       "    }\n",
       "\n",
       "    .dataframe thead th {\n",
       "        text-align: left;\n",
       "    }\n",
       "\n",
       "    .dataframe tbody tr th {\n",
       "        vertical-align: top;\n",
       "    }\n",
       "</style>\n",
       "<table border=\"1\" class=\"dataframe\">\n",
       "  <thead>\n",
       "    <tr style=\"text-align: right;\">\n",
       "      <th></th>\n",
       "      <th>r_1</th>\n",
       "      <th>r_2</th>\n",
       "      <th>r_3</th>\n",
       "      <th>r_4</th>\n",
       "      <th>r_5</th>\n",
       "      <th>r_6</th>\n",
       "      <th>r_7</th>\n",
       "      <th>r_8</th>\n",
       "      <th>r_9</th>\n",
       "      <th>r_10</th>\n",
       "      <th>...</th>\n",
       "      <th>b_1017</th>\n",
       "      <th>b_1018</th>\n",
       "      <th>b_1019</th>\n",
       "      <th>b_1020</th>\n",
       "      <th>b_1021</th>\n",
       "      <th>b_1022</th>\n",
       "      <th>b_1023</th>\n",
       "      <th>b_1024</th>\n",
       "      <th>target</th>\n",
       "      <th>target_n</th>\n",
       "    </tr>\n",
       "  </thead>\n",
       "  <tbody>\n",
       "    <tr>\n",
       "      <th>0</th>\n",
       "      <td>135</td>\n",
       "      <td>136</td>\n",
       "      <td>155</td>\n",
       "      <td>151</td>\n",
       "      <td>146</td>\n",
       "      <td>145</td>\n",
       "      <td>147</td>\n",
       "      <td>98</td>\n",
       "      <td>23</td>\n",
       "      <td>24</td>\n",
       "      <td>...</td>\n",
       "      <td>151</td>\n",
       "      <td>145</td>\n",
       "      <td>140</td>\n",
       "      <td>136</td>\n",
       "      <td>123</td>\n",
       "      <td>53</td>\n",
       "      <td>46</td>\n",
       "      <td>48</td>\n",
       "      <td>cat</td>\n",
       "      <td>1</td>\n",
       "    </tr>\n",
       "    <tr>\n",
       "      <th>1</th>\n",
       "      <td>19</td>\n",
       "      <td>21</td>\n",
       "      <td>86</td>\n",
       "      <td>173</td>\n",
       "      <td>208</td>\n",
       "      <td>224</td>\n",
       "      <td>227</td>\n",
       "      <td>227</td>\n",
       "      <td>237</td>\n",
       "      <td>237</td>\n",
       "      <td>...</td>\n",
       "      <td>31</td>\n",
       "      <td>33</td>\n",
       "      <td>27</td>\n",
       "      <td>23</td>\n",
       "      <td>25</td>\n",
       "      <td>28</td>\n",
       "      <td>35</td>\n",
       "      <td>37</td>\n",
       "      <td>no_cat</td>\n",
       "      <td>0</td>\n",
       "    </tr>\n",
       "    <tr>\n",
       "      <th>2</th>\n",
       "      <td>98</td>\n",
       "      <td>97</td>\n",
       "      <td>97</td>\n",
       "      <td>99</td>\n",
       "      <td>96</td>\n",
       "      <td>95</td>\n",
       "      <td>96</td>\n",
       "      <td>100</td>\n",
       "      <td>102</td>\n",
       "      <td>103</td>\n",
       "      <td>...</td>\n",
       "      <td>31</td>\n",
       "      <td>30</td>\n",
       "      <td>29</td>\n",
       "      <td>30</td>\n",
       "      <td>31</td>\n",
       "      <td>38</td>\n",
       "      <td>47</td>\n",
       "      <td>48</td>\n",
       "      <td>no_cat</td>\n",
       "      <td>0</td>\n",
       "    </tr>\n",
       "    <tr>\n",
       "      <th>3</th>\n",
       "      <td>231</td>\n",
       "      <td>221</td>\n",
       "      <td>211</td>\n",
       "      <td>208</td>\n",
       "      <td>210</td>\n",
       "      <td>209</td>\n",
       "      <td>208</td>\n",
       "      <td>207</td>\n",
       "      <td>207</td>\n",
       "      <td>207</td>\n",
       "      <td>...</td>\n",
       "      <td>188</td>\n",
       "      <td>188</td>\n",
       "      <td>188</td>\n",
       "      <td>188</td>\n",
       "      <td>188</td>\n",
       "      <td>187</td>\n",
       "      <td>187</td>\n",
       "      <td>187</td>\n",
       "      <td>no_cat</td>\n",
       "      <td>0</td>\n",
       "    </tr>\n",
       "    <tr>\n",
       "      <th>4</th>\n",
       "      <td>138</td>\n",
       "      <td>139</td>\n",
       "      <td>143</td>\n",
       "      <td>145</td>\n",
       "      <td>142</td>\n",
       "      <td>142</td>\n",
       "      <td>146</td>\n",
       "      <td>144</td>\n",
       "      <td>136</td>\n",
       "      <td>140</td>\n",
       "      <td>...</td>\n",
       "      <td>97</td>\n",
       "      <td>97</td>\n",
       "      <td>101</td>\n",
       "      <td>107</td>\n",
       "      <td>116</td>\n",
       "      <td>118</td>\n",
       "      <td>119</td>\n",
       "      <td>104</td>\n",
       "      <td>no_cat</td>\n",
       "      <td>0</td>\n",
       "    </tr>\n",
       "  </tbody>\n",
       "</table>\n",
       "<p>5 rows × 3074 columns</p>\n",
       "</div>"
      ],
      "text/plain": [
       "   r_1  r_2  r_3  r_4  r_5  r_6  r_7  r_8  r_9  r_10    ...     b_1017  \\\n",
       "0  135  136  155  151  146  145  147   98   23    24    ...        151   \n",
       "1   19   21   86  173  208  224  227  227  237   237    ...         31   \n",
       "2   98   97   97   99   96   95   96  100  102   103    ...         31   \n",
       "3  231  221  211  208  210  209  208  207  207   207    ...        188   \n",
       "4  138  139  143  145  142  142  146  144  136   140    ...         97   \n",
       "\n",
       "   b_1018  b_1019  b_1020  b_1021  b_1022  b_1023  b_1024  target  target_n  \n",
       "0     145     140     136     123      53      46      48     cat         1  \n",
       "1      33      27      23      25      28      35      37  no_cat         0  \n",
       "2      30      29      30      31      38      47      48  no_cat         0  \n",
       "3     188     188     188     188     187     187     187  no_cat         0  \n",
       "4      97     101     107     116     118     119     104  no_cat         0  \n",
       "\n",
       "[5 rows x 3074 columns]"
      ]
     },
     "execution_count": 3,
     "metadata": {},
     "output_type": "execute_result"
    }
   ],
   "source": [
    "mapping = {'cat':1, 'no_cat':0}\n",
    "data['target_n'] = data['target'].map(mapping)\n",
    "data.head()"
   ]
  },
  {
   "cell_type": "markdown",
   "metadata": {},
   "source": [
    "## How does our data work ?"
   ]
  },
  {
   "cell_type": "markdown",
   "metadata": {},
   "source": [
    "### Here's what images actually look like\n",
    "\n",
    "![rgb](images/rgb.jpg)"
   ]
  },
  {
   "cell_type": "markdown",
   "metadata": {},
   "source": [
    "![rgb2](images/rgb2.jpg)"
   ]
  },
  {
   "cell_type": "markdown",
   "metadata": {},
   "source": [
    "## For that matter, we choose to format our data as follows\n",
    "\n",
    "![rbg_to_vec](images/rgb_to_vec.jpg)"
   ]
  },
  {
   "cell_type": "code",
   "execution_count": 4,
   "metadata": {
    "collapsed": true
   },
   "outputs": [],
   "source": [
    "from sklearn.utils import shuffle\n",
    "\n",
    "data = shuffle(data, random_state=42)\n",
    "X = data.drop(['target', 'target_n'], axis=1).astype('uint8')\n",
    "y = data['target_n']"
   ]
  },
  {
   "cell_type": "markdown",
   "metadata": {},
   "source": [
    "### We can try visualizing some of these images"
   ]
  },
  {
   "cell_type": "code",
   "execution_count": 5,
   "metadata": {
    "collapsed": true
   },
   "outputs": [],
   "source": [
    "def visualize_image(X, y, idx):\n",
    "    rgb = X.iloc[idx]\n",
    "    img = rgb.values.reshape(3, 32, 32).transpose([1, 2, 0])\n",
    "    plt.figure(figsize=(4, 2))\n",
    "    plt.imshow(img)\n",
    "    plt.title('{}'.format(y.values[idx]))\n",
    "    plt.show()"
   ]
  },
  {
   "cell_type": "code",
   "execution_count": 6,
   "metadata": {},
   "outputs": [
    {
     "data": {
      "image/png": "[encoded data removed]",
      "text/plain": [
       "<matplotlib.figure.Figure at 0x258c5796da0>"
      ]
     },
     "metadata": {},
     "output_type": "display_data"
    }
   ],
   "source": [
    "image_n = 18 # change me to see a different picture\n",
    "visualize_image(X, data['target'], image_n)"
   ]
  },
  {
   "cell_type": "markdown",
   "metadata": {},
   "source": [
    "# Mathematical Background"
   ]
  },
  {
   "cell_type": "markdown",
   "metadata": {},
   "source": [
    "## Linear Algebra\n",
    "\n",
    "### Let's start with some simple dot product ( produit scalaire )\n",
    "\n",
    "** Hope your already know this one **\n",
    "\n",
    "![dot](images/dot.jpg)"
   ]
  },
  {
   "cell_type": "markdown",
   "metadata": {},
   "source": [
    "### Easy right ?\n",
    "\n",
    "### Let's move up to something more serious\n",
    "\n",
    "## Gradient Descent"
   ]
  },
  {
   "cell_type": "markdown",
   "metadata": {},
   "source": [
    "### Let's suppose we have the following function\n",
    "## $$ f(\\theta) = \\theta^2 $$\n",
    "\n",
    "### we want to minimize such a function, in theory we just calculate its derivative and find the parameter theta for which f($\\theta$) is null"
   ]
  },
  {
   "cell_type": "markdown",
   "metadata": {},
   "source": [
    "### In practice however, we usually don't know what f looks like, and whenever f depends of more than one parameter or calculating its derivative become complicated, we try to approach $\\theta$ that minimizes f with iterative methods\n",
    "\n",
    "### One of these methods is the **Gradient Descent**:\n",
    "\n",
    "## $$\\theta_{k+1}=\\theta_{k}-\\alpha\\frac{d f(\\theta)}{d\\theta}$$\n",
    "\n",
    "## $\\alpha$ : Learning rate\n",
    "## $\\frac{d f(\\theta)}{d\\theta}$ : Gradient of f\n",
    "## $\\theta_{k}$ : theta at the time step k\n",
    "## $\\theta_{k+1}$ : theta at the time step k+1"
   ]
  },
  {
   "cell_type": "markdown",
   "metadata": {},
   "source": [
    "### Simply put, we start with an arbitrary value of $\\theta$ and update it at each time step using the gradient of the function to minimize ( thus the name of the method )\n",
    "\n",
    "### Below we implement a simple gradient descent to visualize how the process works on this simple example"
   ]
  },
  {
   "cell_type": "code",
   "execution_count": 7,
   "metadata": {},
   "outputs": [
    {
     "name": "stdout",
     "output_type": "stream",
     "text": [
      "3.0000 -0.6000\n",
      "2.4000 -0.4800\n",
      "1.9200 -0.3840\n",
      "1.5360 -0.3072\n",
      "1.2288 -0.2458\n",
      "0.9830 -0.1966\n",
      "0.7864 -0.1573\n",
      "0.6291 -0.1258\n",
      "0.5033 -0.1007\n",
      "0.4027 -0.0805\n"
     ]
    }
   ],
   "source": [
    "theta = 3\n",
    "alpha = 0.1\n",
    "dat = []\n",
    "\n",
    "for oo in range(0, 10):\n",
    "    # code here\n",
    "    derivative = 2 * theta\n",
    "    direction = - derivative\n",
    "    res = alpha * direction\n",
    "    \n",
    "    print('{:.4f} {:.4f}'.format(theta, res))\n",
    "    dat.append([theta, theta**2])\n",
    "    \n",
    "    theta += res"
   ]
  },
  {
   "cell_type": "markdown",
   "metadata": {},
   "source": [
    "### too hard to imagine ? we got your covered"
   ]
  },
  {
   "cell_type": "code",
   "execution_count": 8,
   "metadata": {},
   "outputs": [
    {
     "data": {
      "image/png": "[encoded data removed]",
      "text/plain": [
       "<matplotlib.figure.Figure at 0x258caa98d68>"
      ]
     },
     "metadata": {},
     "output_type": "display_data"
    }
   ],
   "source": [
    "tmp = pd.DataFrame(dat)\n",
    "plt.figure(figsize=(16, 12))\n",
    "plt.plot(np.linspace(-2, 4, 100), np.linspace(-2, 4, 100)**2, label='true function')\n",
    "plt.scatter(tmp[0], tmp[1], c=np.arange(10, 0, -1), marker='o', label='Iterations')\n",
    "plt.legend(fontsize=20)\n",
    "plt.xlabel('theta')\n",
    "plt.ylabel('J(theta)')\n",
    "plt.show()"
   ]
  },
  {
   "cell_type": "markdown",
   "metadata": {},
   "source": [
    "# Neural Network from scratch\n",
    "\n",
    "### You're probably wondering why we told you all of that right ? well rest assured, it is worth it."
   ]
  },
  {
   "cell_type": "markdown",
   "metadata": {},
   "source": [
    "### Let's start by having a quick look at a natural neuron\n",
    "\n",
    "![natural](images/natural.jpg)"
   ]
  },
  {
   "cell_type": "markdown",
   "metadata": {},
   "source": [
    "### Fascinated by its long mistery, humans started searching for means to model how our brain works since the end of the 18th century, however it is only in 1943 that the first model of our human brain was created by McCulloch and Pitts.\n",
    "\n",
    "### The first model is roughly broken into two parts: a summation over weighted inputs and an output function of the sum.\n",
    "\n",
    "![model](images/model.jpg)"
   ]
  },
  {
   "cell_type": "markdown",
   "metadata": {},
   "source": [
    "## <font color='blue'>Forward Propagation</font>"
   ]
  },
  {
   "cell_type": "markdown",
   "metadata": {},
   "source": [
    "### Let's not get scared ? let's start with some simple 2 neurons connection\n",
    "\n",
    "![2](images/2.jpg)"
   ]
  },
  {
   "cell_type": "markdown",
   "metadata": {},
   "source": [
    "### Following the previous model and assuming f is the identity we can say that\n",
    "## $$ y = w x $$"
   ]
  },
  {
   "cell_type": "markdown",
   "metadata": {},
   "source": [
    "### However, this equation suppose that if $x=0$ then $y=0$ so we will add a bias term to it\n",
    "\n",
    "## $$ y = w x + b$$"
   ]
  },
  {
   "cell_type": "markdown",
   "metadata": {},
   "source": [
    "### Now about that activation function:\n",
    "\n",
    "### There is a multitude of activation functions, for this session we will focus on the Sigmoid function:\n",
    "\n",
    "## $$\\sigma(x) = \\frac{1}{1 + e^{-x}}$$\n",
    "\n",
    "![sigmoid](images/sigmoid.png)"
   ]
  },
  {
   "cell_type": "markdown",
   "metadata": {},
   "source": [
    "### We usually want to use such an activation function if we want each neuron to have an output between 0 and 1 like in our case ( cat vs no_cat )\n",
    "\n",
    "### So each neuron will output the probability representing its confidence about the input image\n",
    "\n",
    "### Let's implements that"
   ]
  },
  {
   "cell_type": "code",
   "execution_count": 9,
   "metadata": {
    "collapsed": true
   },
   "outputs": [],
   "source": [
    "def sigmoid(x):\n",
    "    return 1/(1 + np.exp(-x))"
   ]
  },
  {
   "cell_type": "markdown",
   "metadata": {},
   "source": [
    "### Thus the output of our neuron can be written as:\n",
    "\n",
    "## $$ y_{pred} = \\sigma(w x + b) $$\n",
    "\n",
    "### where:\n",
    "## $x$ : output of previous neuron\n",
    "## $b$ : bias term\n",
    "## $\\sigma$ : sigmoid activation function\n",
    "## $y_{pred}$ : output of neuron"
   ]
  },
  {
   "cell_type": "markdown",
   "metadata": {},
   "source": [
    "### Pretty simple right ?\n",
    "### Now how about we consider an input layer of multiple neurons ?\n",
    "\n",
    "![3](images/3.jpg)"
   ]
  },
  {
   "cell_type": "markdown",
   "metadata": {},
   "source": [
    "### This supposes that\n",
    "\n",
    "## $$ y_{pred} = \\sigma(\\sum_i{w_{i} x_{i}} + b) $$ \n",
    "\n",
    "### But we don't think we covered the dot product for fun do you ?\n",
    "\n",
    "### Let X be a matrix of shape (1 x n) and w a matrix of shape (n x 1) then\n",
    "\n",
    "## $$ X . w = \\sum_i{w_{i} x_{i}} $$\n",
    "\n",
    "### We can then express the output of a neuron as\n",
    "\n",
    "## $$ y_{pred} = \\sigma(X . w + b) $$ \n",
    "\n",
    "### where:\n",
    "## $X$ : input matrix of shape (m x n)\n",
    "## $w$ : weights matrix of shape (n x l)\n",
    "## $b$ : vector of shape (n x 1) or a simple scalar\n",
    "## $y_{pred}$ : output matrix of shape (m x l)"
   ]
  },
  {
   "cell_type": "markdown",
   "metadata": {
    "collapsed": true
   },
   "source": [
    "### Let's go ahead and implement the forward propagation in a connection of m inputs and l outputs"
   ]
  },
  {
   "cell_type": "code",
   "execution_count": 10,
   "metadata": {
    "collapsed": true
   },
   "outputs": [],
   "source": [
    "def forward(X, w, b, f):\n",
    "    \"\"\"\n",
    "    Function that implements the forward propagation\n",
    "    \n",
    "    Args:\n",
    "        - X: input matrix of shape (m, n)\n",
    "        - w: weights matrix of shape (n, l)\n",
    "        - b: vector of shape (n,) or scalar\n",
    "        - f: Callable, activation function\n",
    "        \n",
    "    Returns:\n",
    "        - y: output matrix of shape (m, l)\n",
    "    \"\"\"\n",
    "    \n",
    "    return f(np.dot(X, w) + b)"
   ]
  },
  {
   "cell_type": "markdown",
   "metadata": {},
   "source": [
    "### We told you everything is simple\n",
    "\n",
    "### So consider now the following Neural Network\n",
    "\n",
    "![network](images/network.png)"
   ]
  },
  {
   "cell_type": "markdown",
   "metadata": {},
   "source": [
    "### To actually make predictions, we just feed in the inputs into the input layer and let the data propagate or \"flow\" through the network until it reaches the output layer and thus we got our prediction\n",
    "\n",
    "![neural-network](images/neural-network.gif)"
   ]
  },
  {
   "cell_type": "markdown",
   "metadata": {},
   "source": [
    "### But how does it learn exactly ??\n",
    "\n",
    "## <font color='blue'>Back Propagation</font>"
   ]
  },
  {
   "cell_type": "markdown",
   "metadata": {},
   "source": [
    "### When a neuron gives an output, we calculate its error using the following equation called Sum of Squared Errors (SSE):\n",
    "\n",
    "## $$ E = \\frac{1}{2} \\sum_i{(y_{true, i} - y_{pred, i})^2} $$\n",
    "\n",
    "\n",
    "### Artificial Neural Networks (ANN) learn by updating the connections between the neurons and thus by updating the weights matrix $w$ \n",
    "\n",
    "### This process is similar to the pathing procedure that our brain does when learning a new information, it creates a map through which the information propagates to make the best outcome"
   ]
  },
  {
   "cell_type": "markdown",
   "metadata": {},
   "source": [
    "### Like we saw earlier, if we want to minimize some function we just have to adopt the gradient descent.\n",
    "\n",
    "### In our case we are looking to minimize the \"error\" by changing the \"weights\" and so our gradient descent should look something like this:\n",
    "\n",
    "## $$ w_{k+1} = w_k - \\alpha \\frac{d E(w)}{dw}$$"
   ]
  },
  {
   "cell_type": "markdown",
   "metadata": {},
   "source": [
    "### There is a slight problem however, we don't see a direct link between E and w\n",
    "### For that matter we use the chain rule and just derivate\n",
    "\n",
    "## $$\\frac{d E(w)}{dw} = \\frac{d E(w)}{dy_{pred}}  \\frac{d y_{pred}}{dw} $$"
   ]
  },
  {
   "cell_type": "markdown",
   "metadata": {},
   "source": [
    "### But :\n",
    "## $$  \\frac{d E(w)}{dy_{pred}} =  \\frac{d}{dy_{pred}} (\\frac{1}{2} (y_{true} - y_{pred})^2) = - (y_{true} - y_{pred})$$"
   ]
  },
  {
   "cell_type": "markdown",
   "metadata": {},
   "source": [
    "### So:\n",
    "\n",
    "## $$\\frac{d E(w)}{dw} =  - (y_{true} - y_{pred})  \\frac{d y_{pred}}{dw} $$\n",
    "\n",
    "### Chain rule again:\n",
    "\n",
    "## $$ \\frac{d E(w)}{dw} =  - (y_{true} - y_{pred}) \\frac{d y_{pred}}{dh} \\frac{d h}{dw} $$\n",
    "\n",
    "### where:\n",
    "## $h$ : weighted sum of previous neurons ( $h = X . w + b$)"
   ]
  },
  {
   "cell_type": "markdown",
   "metadata": {},
   "source": [
    "### Since:\n",
    "\n",
    "## $$ y_{pred} = \\sigma (h) $$\n",
    "\n",
    "### we can deduce that:\n",
    "\n",
    "## $$ \\frac{d y_{pred}}{dh} = \\sigma '(h) $$\n",
    "\n",
    "### thus, our equation becomes:\n",
    "\n",
    "## $$ \\frac{d E(w)}{dw} =  - (y_{true} - y_{pred}) \\  \\sigma '(h) \\ \\frac{d h}{dw} $$"
   ]
  },
  {
   "cell_type": "markdown",
   "metadata": {},
   "source": [
    "### finally, since\n",
    "\n",
    "## $$\\frac{d h}{dw} = \\frac{d(X w + b)}{dw} = X$$\n",
    "\n",
    "### the error derivative become\n",
    "\n",
    "## $$ \\frac{d E(w)}{dw} =  - (y_{true} - y_{pred}) \\  \\sigma '(h) \\ X \\ \\ \\ \\ \\ \\ \\ (1)$$"
   ]
  },
  {
   "cell_type": "markdown",
   "metadata": {},
   "source": [
    "### By bringing back the equation (1) to our gradient descent we get \n",
    "\n",
    "## $$ w_{k+1} = w_k + \\alpha \\ (y_{true} - y_{pred}) \\  \\sigma '(h) \\ X$$\n",
    "\n",
    "### By doing the same procedure considering the activation function of the bias as the identity we get\n",
    "\n",
    "## $$ b_{k+1} = b_k + \\alpha \\ (y_{true} - y_{pred}) $$\n",
    "\n",
    "### Enough of theory and mathematics, let's write this in code"
   ]
  },
  {
   "cell_type": "markdown",
   "metadata": {},
   "source": [
    "### Knowing that:\n",
    "\n",
    "## $$ \\sigma'(x) = \\sigma(x) ( 1 - \\sigma(x))$$\n",
    "\n",
    "### Let's redefine the sigmoid function"
   ]
  },
  {
   "cell_type": "code",
   "execution_count": 11,
   "metadata": {
    "collapsed": true
   },
   "outputs": [],
   "source": [
    "# we define the old sigmoid for your to develop on it\n",
    "def old_sigmoid(x):\n",
    "    return 1 / (1 + np.exp(-x))\n",
    "\n",
    "def sigmoid(x, deriv=False):\n",
    "    \"\"\"\n",
    "    Sigmoidal Activation function\n",
    "    \n",
    "    Args:\n",
    "     - x: vector or scaler, input to the sigmoid\n",
    "     - deriv: boolean to specify if we want to use sigmoid or its derivative\n",
    "     \n",
    "     Returns:\n",
    "     - y: scalar or vector, output of the sigmoid\n",
    "    \"\"\"\n",
    "    if deriv:\n",
    "        x = old_sigmoid(x)\n",
    "        return x * (1 - x)\n",
    "    return old_sigmoid(x)"
   ]
  },
  {
   "cell_type": "markdown",
   "metadata": {},
   "source": [
    "### Let's go ahead to define the back propagation"
   ]
  },
  {
   "cell_type": "code",
   "execution_count": 12,
   "metadata": {
    "collapsed": true
   },
   "outputs": [],
   "source": [
    "def backward(y_true, y_pred, alpha, X, w, b):\n",
    "    \"\"\"\n",
    "    Function to implement the back propagation\n",
    "    \n",
    "    Args:\n",
    "        - y_true: scalar or vector, used to calculate error term\n",
    "        - y_pred: scalar or vecotr, output of the forward propagation\n",
    "        - alpha: float, learning rate\n",
    "        - X: matrix, input of the synapse\n",
    "        - w: matrix, weights of the synapse\n",
    "        - b: scalar or vector, bias of the synapse\n",
    "        \n",
    "    Returns:\n",
    "        - w: matrix, updated weights\n",
    "        - b: vector or scalar: updated bias\n",
    "    \"\"\"\n",
    "    h = np.dot(X, w) + b\n",
    "    \n",
    "    derivative_w = - X.T.dot(( y_true - y_pred ) * sigmoid(h, True))\n",
    "    direction_w = - derivative_w\n",
    "    \n",
    "    derivative_b = - ( y_true - y_pred ).sum()\n",
    "    direction_b = -derivative_b\n",
    "    \n",
    "    w += alpha * direction_w\n",
    "    b += alpha * direction_b\n",
    "\n",
    "    return w, b"
   ]
  },
  {
   "cell_type": "markdown",
   "metadata": {},
   "source": [
    "### Now that we defined our forward propagation as well as out backward propagation, we can create the training function for our Network\n",
    "\n",
    "### We will set some hyperparameters like:\n",
    "### alpha: learning rate\n",
    "### epochs: number of training steps ( each full forward and back propagation = 1 epoch )\n",
    "### X: input matrix\n",
    "### y: target vector"
   ]
  },
  {
   "cell_type": "code",
   "execution_count": 13,
   "metadata": {
    "collapsed": true
   },
   "outputs": [],
   "source": [
    "def train(X, y, alpha, epochs):\n",
    "    \"\"\"\n",
    "    Training function of the network\n",
    "    \n",
    "    Args:\n",
    "        - X: input matrix\n",
    "        - y: output vector\n",
    "        - alpha: learning rate\n",
    "        - epochs: learning steps\n",
    "        \n",
    "    Returns:\n",
    "        - w_: trained weights\n",
    "        - b_: trained bias\n",
    "        - cost_: list containing the cost function value at each training step\n",
    "    \"\"\"\n",
    "    # we will define our starting weights and bias as 0\n",
    "    np.random.seed(1)\n",
    "    w_ = 2* np.random.random(X.shape[1]) -1 \n",
    "    b_ = 0\n",
    "    cost_ = []\n",
    "\n",
    "    for i in range(1, epochs + 1):\n",
    "        # make prediction\n",
    "        y_pred = forward(X, w_, b_, sigmoid)\n",
    "        \n",
    "        # do the backpropagation using gradient descent\n",
    "        w_, b_ = backward(y, y_pred, alpha, X, w_, b_)\n",
    "        \n",
    "        # do some plotting of the evolution of the error\n",
    "        cost = ((y - y_pred)**2).sum() / 2.0\n",
    "        \n",
    "        if i % 10 == 0:\n",
    "            print('Epoch : {} / {} , Cost = {:.2f}'.format(i, epochs, cost), end='\\r')\n",
    "        \n",
    "        cost_.append(cost)\n",
    "    return w_, b_, cost_"
   ]
  },
  {
   "cell_type": "markdown",
   "metadata": {},
   "source": [
    "### let's define a function to plot the loss against training steps"
   ]
  },
  {
   "cell_type": "markdown",
   "metadata": {},
   "source": [
    "### Let's also create a prediction function"
   ]
  },
  {
   "cell_type": "code",
   "execution_count": 14,
   "metadata": {
    "collapsed": true
   },
   "outputs": [],
   "source": [
    "def plot_error(epochs, cost):\n",
    "    plt.figure(figsize=(10,8))\n",
    "    plt.plot(range(1, epochs + 1), cost);\n",
    "    plt.ylabel('SSE');\n",
    "    plt.xlabel('Epoch');\n",
    "    plt.show()"
   ]
  },
  {
   "cell_type": "code",
   "execution_count": 15,
   "metadata": {
    "collapsed": true
   },
   "outputs": [],
   "source": [
    "def predict(X, w, b, f):\n",
    "    \"\"\"\n",
    "    Prediction function of the Network which rounds the predicted probability\n",
    "    \n",
    "    Args:\n",
    "        - X: matrix to predict\n",
    "        - w: trained weights\n",
    "        - b: trained bias\n",
    "        - f: activation function to use\n",
    "    Returns:\n",
    "        - y_pred: predicted outputs as an array of binary values\n",
    "    \"\"\"\n",
    "    y_pred = forward(X, w, b, f)\n",
    "    return np.round(y_pred).astype(int)"
   ]
  },
  {
   "cell_type": "code",
   "execution_count": 16,
   "metadata": {
    "collapsed": true
   },
   "outputs": [],
   "source": [
    "def prediction_str(X, w, b, f):\n",
    "    y_pred = predict(X, w, b, f)\n",
    "    return ['cat' if pred == 1 else 'no cat' for pred in y_pred]"
   ]
  },
  {
   "cell_type": "markdown",
   "metadata": {},
   "source": [
    "### Let's try out our model"
   ]
  },
  {
   "cell_type": "markdown",
   "metadata": {},
   "source": [
    "### We'll first start by doing some preprocessing"
   ]
  },
  {
   "cell_type": "code",
   "execution_count": 17,
   "metadata": {
    "collapsed": true
   },
   "outputs": [],
   "source": [
    "from sklearn.preprocessing import StandardScaler\n",
    "\n",
    "scaler = StandardScaler()\n",
    "X = scaler.fit_transform(X)"
   ]
  },
  {
   "cell_type": "markdown",
   "metadata": {},
   "source": [
    "### We then create a train and test dataset, train our model and visualize its learning curve"
   ]
  },
  {
   "cell_type": "code",
   "execution_count": 18,
   "metadata": {},
   "outputs": [
    {
     "name": "stdout",
     "output_type": "stream",
     "text": [
      "Epoch : 8000 / 8000 , Cost = 1284.56\n",
      "Training time: 353.6839771270752\n"
     ]
    },
    {
     "data": {
      "image/png": "[encoded data removed]",
      "text/plain": [
       "<matplotlib.figure.Figure at 0x258b8ac22b0>"
      ]
     },
     "metadata": {},
     "output_type": "display_data"
    }
   ],
   "source": [
    "from sklearn.model_selection import train_test_split\n",
    "from time import time\n",
    "\n",
    "X_train, X_test, y_train, y_test = train_test_split(X, y, test_size=0.2, random_state=0)\n",
    "\n",
    "alpha = 10**-4\n",
    "epochs = 8000\n",
    "\n",
    "start = time()\n",
    "w, b, cost = train(X_train, y_train, alpha, epochs)\n",
    "end = time()\n",
    "print()\n",
    "print('Training time: {}'.format(end-start))\n",
    "plot_error(epochs, cost)"
   ]
  },
  {
   "cell_type": "markdown",
   "metadata": {},
   "source": [
    "### Finally let's go ahead and make predictions on the train and test data and evaluate our model"
   ]
  },
  {
   "cell_type": "code",
   "execution_count": 19,
   "metadata": {},
   "outputs": [
    {
     "name": "stdout",
     "output_type": "stream",
     "text": [
      "Train Accuracy: 0.729375\n"
     ]
    }
   ],
   "source": [
    "from sklearn.metrics import accuracy_score\n",
    "\n",
    "y_pred = predict(X_train, w, b, sigmoid)\n",
    "print('Train Accuracy:', accuracy_score(y_train, y_pred))"
   ]
  },
  {
   "cell_type": "code",
   "execution_count": 20,
   "metadata": {},
   "outputs": [
    {
     "name": "stdout",
     "output_type": "stream",
     "text": [
      "Test Accuracy: 0.6425\n"
     ]
    }
   ],
   "source": [
    "y_pred = predict(X_test, w, b, sigmoid)\n",
    "print('Test Accuracy:', accuracy_score(y_test, y_pred))"
   ]
  },
  {
   "cell_type": "markdown",
   "metadata": {},
   "source": [
    "# What Next ?\n",
    "\n",
    "### As you noticed the results are not the best you could see, however don't forget we are only using One Neuron to make these predictions which seems to be very promising\n",
    "\n",
    "### We could improve the results by creating a Neural Network with hidden layers\n",
    "\n",
    "\n",
    "### One of the best practices is to try and understand the intuition behind neural networks, like by using this link:\n",
    "## [Tensorflow Playground](http://playground.tensorflow.org/#activation=relu&regularization=L2&batchSize=16&dataset=spiral&regDataset=reg-plane&learningRate=0.03&regularizationRate=0.001&noise=20&networkShape=8,6,4&seed=0.38505&showTestData=false&discretize=false&percTrainData=80&x=true&y=true&xTimesY=true&xSquared=true&ySquared=true&cosX=false&sinX=true&cosY=false&sinY=true&collectStats=false&problem=classification&initZero=false&hideText=false)"
   ]
  },
  {
   "cell_type": "markdown",
   "metadata": {},
   "source": [
    "# References\n",
    "\n",
    "### We highly encourage you to visit these ressources as they go deeper into the explanation of all the concepts we covered and may explain some information we missed\n",
    "\n",
    "\n",
    "- [Stanford Book](http://www-bcf.usc.edu/~gareth/ISL/ISLR%20Sixth%20Printing.pdf)\n",
    "- [MIT course](https://www.youtube.com/watch?v=uXt8qF2Zzfo&t=1407s)\n",
    "- [Gradient Descent Training Rule](http://www.idi.ntnu.no/~keithd/classes/advai/lectures/backprop.pdf)\n",
    "- [Delta Rule](https://en.wikipedia.org/wiki/Delta_rule)\n",
    "- [Step by Step BackPropagation](https://mattmazur.com/2015/03/17/a-step-by-step-backpropagation-example/)\n",
    "- [Coding Neural Networks from scratch in python and R](https://www.analyticsvidhya.com/blog/2017/05/neural-network-from-scratch-in-python-and-r/)"
   ]
  },
  {
   "cell_type": "markdown",
   "metadata": {},
   "source": [
    "# <font color='blue'> Thank you for your Attention </font>"
   ]
  }
 ],
 "metadata": {
  "kernelspec": {
   "display_name": "Python 3",
   "language": "python",
   "name": "python3"
  },
  "language_info": {
   "codemirror_mode": {
    "name": "ipython",
    "version": 3
   },
   "file_extension": ".py",
   "mimetype": "text/x-python",
   "name": "python",
   "nbconvert_exporter": "python",
   "pygments_lexer": "ipython3",
   "version": "3.6.3"
  }
 },
 "nbformat": 4,
 "nbformat_minor": 2
}
