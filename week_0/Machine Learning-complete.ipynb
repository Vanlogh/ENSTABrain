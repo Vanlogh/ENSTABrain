{
 "cells": [
  {
   "cell_type": "markdown",
   "metadata": {},
   "source": [
    "# <font color='blue'> Week - 0: Intro to Machine Learning </font>\n",
    "*Provided by:*\n",
    "![ENSTABrain](images/LogoEB.png)"
   ]
  },
  {
   "cell_type": "markdown",
   "metadata": {},
   "source": [
    "## <font color='blue'>Agenda</font>\n",
    "- What is Machine Learning?\n",
    "- What are the different machine learning styles?\n",
    "- What are different machine learning tasks ?\n",
    "- How does machine learning \"Work\"?\n",
    "- First steps into python and machine Learning\n",
    "    "
   ]
  },
  {
   "cell_type": "markdown",
   "metadata": {},
   "source": [
    "## <font color='blue'>What is machine learning?</font>\n",
    "One definition: \"Machine learning is the semi-automated extraction of knowledge from data\"\n",
    "\n",
    "- **Knowledge from data**: Starts with a question that might be answerable using data\n",
    "- **Automated extraction**: A computer provides the insight\n",
    "- **Semi-automated**: Requires many smart decisions by a human"
   ]
  },
  {
   "cell_type": "markdown",
   "metadata": {},
   "source": [
    "## <font color='blue'>Machine Learning Styles</font>\n",
    "There are three styles of machine learning\n",
    "\n",
    "![styles](images/styles.png)\n",
    "\n",
    "**Supervised learning**\n",
    "- Example: Does a given picture feature a \"dog\" or a \"cat\"?\n",
    "- There is an outcome we are trying to predict"
   ]
  },
  {
   "cell_type": "markdown",
   "metadata": {},
   "source": [
    "** Data is Labeled **\n",
    "\n",
    "![supervised](images/labeled_data.png)"
   ]
  },
  {
   "cell_type": "markdown",
   "metadata": {},
   "source": [
    "**Unsupervised learning**\n",
    "\n",
    "- Example: Segment different animals species into groups that exhibit similar behavior\n",
    "- There is no \"right answer\"\n",
    "\n",
    "![unlabeled](images/unlabeled.jpg)"
   ]
  },
  {
   "cell_type": "markdown",
   "metadata": {},
   "source": [
    "** Reinforcement Learning **\n",
    "\n",
    "- Example: Learn how to beat a video game.\n",
    "- Interaction with the environment through process of trial and error.\n",
    "\n",
    "![reinforcement](C:\\Users\\user\\Desktop\\courses\\week_0\\reinforcement.png)"
   ]
  },
  {
   "cell_type": "markdown",
   "metadata": {},
   "source": [
    "## <font color='blue'>Machine learning tasks</font>\n",
    "\n",
    "- **Classification**\n",
    "- **Regression**\n",
    "\n",
    "![tasks](images/tasks.png)"
   ]
  },
  {
   "cell_type": "markdown",
   "metadata": {},
   "source": [
    "## <font color='blue'>How does machine learning \"work\"? </font>\n",
    "** Let's consider a supervised learning approach **\n",
    "\n",
    "1. First, train a **machine learning model** using **labeled data**\n",
    "    \n",
    "    - The model receives true outcome of data\n",
    "    - \"Machine learning model\" learns the relationship between the attributes of the data and its outcome\n",
    "\n",
    "2. Then, make **predictions** on **new data** for which the label is unknown\n"
   ]
  },
  {
   "cell_type": "markdown",
   "metadata": {},
   "source": [
    "\n",
    "![model](images/model.png)"
   ]
  },
  {
   "cell_type": "markdown",
   "metadata": {},
   "source": [
    "The primary goal of machine learning is to build a model that \"generalizes\": It accurately predicts the **future** rather than the **past**!\n",
    "For that reason we need some way to measure how well our model in performing and be able to evaluate it.\n",
    "\n",
    "Example:\n",
    "\n",
    "** Mean Squared Error **\n",
    "\n",
    "$$MSE = \\frac{1}{n} \\sum_{i=0}^n (label_i-prediction_i)^2$$\n",
    "\n",
    "** Classification Error ** ( Accuracy )\n",
    "\n",
    "$$CE=\\frac{1}{n} \\sum_{i=0}^n I(label_i\\ne prediction_i)$$\n"
   ]
  },
  {
   "cell_type": "markdown",
   "metadata": {},
   "source": [
    "\n",
    "![minimize](images/minimize.gif)"
   ]
  },
  {
   "cell_type": "markdown",
   "metadata": {},
   "source": [
    "## <font color='blue'>Python and machine learning</font>\n",
    "** Python Lists **"
   ]
  },
  {
   "cell_type": "code",
   "execution_count": 1,
   "metadata": {},
   "outputs": [
    {
     "name": "stdout",
     "output_type": "stream",
     "text": [
      "[1, 2, 3]\n",
      "are l1 and l2 equal ? ====>  True\n",
      "are l1 and l3 equal ? ====>  False\n"
     ]
    }
   ],
   "source": [
    "l1 = [1, 2, 3]\n",
    "l2 = list((1, 2, 3))\n",
    "l3 = [2, 4, 5]\n",
    "print(l1)\n",
    "print('are l1 and l2 equal ? ====> ', l1==l2)\n",
    "print('are l1 and l3 equal ? ====> ', l1==l3)"
   ]
  },
  {
   "cell_type": "code",
   "execution_count": 2,
   "metadata": {},
   "outputs": [
    {
     "ename": "TypeError",
     "evalue": "can only concatenate list (not \"int\") to list",
     "output_type": "error",
     "traceback": [
      "\u001b[1;31m---------------------------------------------------------------------------\u001b[0m",
      "\u001b[1;31mTypeError\u001b[0m                                 Traceback (most recent call last)",
      "\u001b[1;32m<ipython-input-2-31da6f386412>\u001b[0m in \u001b[0;36m<module>\u001b[1;34m()\u001b[0m\n\u001b[1;32m----> 1\u001b[1;33m \u001b[0ml1\u001b[0m \u001b[1;33m+\u001b[0m \u001b[1;36m1\u001b[0m\u001b[1;33m\u001b[0m\u001b[0m\n\u001b[0m",
      "\u001b[1;31mTypeError\u001b[0m: can only concatenate list (not \"int\") to list"
     ]
    }
   ],
   "source": [
    "l1 + 1 "
   ]
  },
  {
   "cell_type": "markdown",
   "metadata": {},
   "source": [
    "** Numpy **"
   ]
  },
  {
   "cell_type": "code",
   "execution_count": 3,
   "metadata": {},
   "outputs": [
    {
     "name": "stdout",
     "output_type": "stream",
     "text": [
      "l+1 = [2 3 4]\n",
      "l*2 = [2 4 6]\n"
     ]
    }
   ],
   "source": [
    "import numpy as np\n",
    "l = np.array(l1)\n",
    "print(\"l+1 = %s\" %(l + 1))\n",
    "print(\"l*2 = %s\" %(l * 2))"
   ]
  },
  {
   "cell_type": "code",
   "execution_count": 4,
   "metadata": {},
   "outputs": [
    {
     "name": "stdout",
     "output_type": "stream",
     "text": [
      "numpy matrix: \n",
      "[[1 2 3]\n",
      " [4 5 6]\n",
      " [7 8 9]]\n"
     ]
    }
   ],
   "source": [
    "mat = np.array([[1, 2, 3],\n",
    "                [4, 5, 6],\n",
    "                [7, 8, 9]])\n",
    "print('numpy matrix: \\n{}'.format(mat))"
   ]
  },
  {
   "cell_type": "markdown",
   "metadata": {},
   "source": [
    "** Matplotlib **"
   ]
  },
  {
   "cell_type": "code",
   "execution_count": 5,
   "metadata": {},
   "outputs": [
    {
     "data": {
      "image/png": "[encoded data removed]",
      "text/plain": [
       "<matplotlib.figure.Figure at 0x1fbfdb2c6d8>"
      ]
     },
     "metadata": {},
     "output_type": "display_data"
    }
   ],
   "source": [
    "import matplotlib.pyplot as plt\n",
    "# magic line used only to make graphs appear\n",
    "%matplotlib inline \n",
    "\n",
    "X = [1950, 1975, 2000]\n",
    "y = [2.6, 4.0, 6.1]\n",
    "plt.plot(X, y)\n",
    "plt.title('Population through years')\n",
    "plt.xlabel('Year')\n",
    "plt.ylabel('Population (Billion)')\n",
    "plt.grid()\n",
    "plt.show()"
   ]
  },
  {
   "cell_type": "code",
   "execution_count": 6,
   "metadata": {},
   "outputs": [
    {
     "data": {
      "image/png": "[encoded data removed]",
      "text/plain": [
       "<matplotlib.figure.Figure at 0x1fbfa00f8d0>"
      ]
     },
     "metadata": {},
     "output_type": "display_data"
    }
   ],
   "source": [
    "plt.scatter(X, y)\n",
    "plt.grid()\n",
    "plt.title('Population through years')\n",
    "plt.xlabel('Year')\n",
    "plt.ylabel('Population (Billion)')\n",
    "plt.show()"
   ]
  },
  {
   "cell_type": "markdown",
   "metadata": {},
   "source": [
    "** Pandas **\n"
   ]
  },
  {
   "cell_type": "code",
   "execution_count": 7,
   "metadata": {},
   "outputs": [
    {
     "data": {
      "text/html": [
       "<div>\n",
       "<style>\n",
       "    .dataframe thead tr:only-child th {\n",
       "        text-align: right;\n",
       "    }\n",
       "\n",
       "    .dataframe thead th {\n",
       "        text-align: left;\n",
       "    }\n",
       "\n",
       "    .dataframe tbody tr th {\n",
       "        vertical-align: top;\n",
       "    }\n",
       "</style>\n",
       "<table border=\"1\" class=\"dataframe\">\n",
       "  <thead>\n",
       "    <tr style=\"text-align: right;\">\n",
       "      <th></th>\n",
       "      <th>Age</th>\n",
       "      <th>Location</th>\n",
       "      <th>Name</th>\n",
       "      <th>Pass</th>\n",
       "    </tr>\n",
       "  </thead>\n",
       "  <tbody>\n",
       "    <tr>\n",
       "      <th>0</th>\n",
       "      <td>99</td>\n",
       "      <td>Bir</td>\n",
       "      <td>Louay</td>\n",
       "      <td>Nope</td>\n",
       "    </tr>\n",
       "    <tr>\n",
       "      <th>1</th>\n",
       "      <td>7</td>\n",
       "      <td>Dar</td>\n",
       "      <td>Aziz</td>\n",
       "      <td>Nope</td>\n",
       "    </tr>\n",
       "    <tr>\n",
       "      <th>2</th>\n",
       "      <td>22</td>\n",
       "      <td>ENSTAB</td>\n",
       "      <td>Rayhane</td>\n",
       "      <td>Yup</td>\n",
       "    </tr>\n",
       "    <tr>\n",
       "      <th>3</th>\n",
       "      <td>48</td>\n",
       "      <td>Web</td>\n",
       "      <td>Ahmed</td>\n",
       "      <td>Nope</td>\n",
       "    </tr>\n",
       "  </tbody>\n",
       "</table>\n",
       "</div>"
      ],
      "text/plain": [
       "   Age Location     Name  Pass\n",
       "0   99      Bir    Louay  Nope\n",
       "1    7      Dar     Aziz  Nope\n",
       "2   22   ENSTAB  Rayhane   Yup\n",
       "3   48      Web    Ahmed  Nope"
      ]
     },
     "execution_count": 7,
     "metadata": {},
     "output_type": "execute_result"
    }
   ],
   "source": [
    "import pandas as pd\n",
    "\n",
    "# create a simple dataset of people\n",
    "data = {'Name': [\"Louay\", \"Aziz\", \"Rayhane\", \"Ahmed\"],\n",
    "        'Location' : [\"Bir\", \"Dar\", \"ENSTAB\", \"Web\"],\n",
    "        'Age' : [99, 7, 22, 48],\n",
    "        'Pass' : ['Nope', 'Nope', 'Yup', 'Nope']\n",
    "       }\n",
    "\n",
    "X = pd.DataFrame(data)\n",
    "X.head()"
   ]
  },
  {
   "cell_type": "code",
   "execution_count": 8,
   "metadata": {},
   "outputs": [
    {
     "data": {
      "text/plain": [
       "0    Nope\n",
       "1    Nope\n",
       "2     Yup\n",
       "3    Nope\n",
       "Name: Pass, dtype: object"
      ]
     },
     "execution_count": 8,
     "metadata": {},
     "output_type": "execute_result"
    }
   ],
   "source": [
    "y = X['Pass']\n",
    "y.head()"
   ]
  },
  {
   "cell_type": "markdown",
   "metadata": {},
   "source": [
    "** about dicts **\n",
    "\n",
    "![dict](images/dict.png)"
   ]
  },
  {
   "cell_type": "markdown",
   "metadata": {},
   "source": [
    "## <font color='blue'>Coming up next Week</font>\n",
    "\n",
    "** Introduce Scikit-learn Package **\n",
    "\n",
    "** First intelligent machine: Predict flowers types ( Iris dataset ) **\n",
    "\n",
    "** Discover some ML models: KNN (K-Nearest Neighbors) **\n"
   ]
  },
  {
   "cell_type": "markdown",
   "metadata": {},
   "source": [
    "## <font color='blue'>References</font>\n",
    "\n",
    "- ** Stanford University Book:** [An Introduction to Statistical Learning](http://www-bcf.usc.edu/~gareth/ISL/)\n",
    "- ** Github repository:** [Introduction to scikit-learn](https://github.com/justmarkham/scikit-learn-videos)\n",
    "- ** Github repository:** [Introduction to ML with python](https://github.com/amueller/introduction_to_ml_with_python)\n",
    "- ** Youtube channel:** [Siraj Raval](https://www.youtube.com/channel/UCWN3xxRkmTPmbKwht9FuE5A)"
   ]
  },
  {
   "cell_type": "markdown",
   "metadata": {},
   "source": [
    "# <font color='blue'>Thank your for Your attention, see you Next time </font>"
   ]
  }
 ],
 "metadata": {
  "kernelspec": {
   "display_name": "Python 3",
   "language": "python",
   "name": "python3"
  },
  "language_info": {
   "codemirror_mode": {
    "name": "ipython",
    "version": 3
   },
   "file_extension": ".py",
   "mimetype": "text/x-python",
   "name": "python",
   "nbconvert_exporter": "python",
   "pygments_lexer": "ipython3",
   "version": "3.6.3"
  }
 },
 "nbformat": 4,
 "nbformat_minor": 2
}
